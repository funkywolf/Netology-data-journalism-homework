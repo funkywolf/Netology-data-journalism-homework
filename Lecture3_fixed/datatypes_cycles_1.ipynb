{
 "cells": [
  {
   "cell_type": "markdown",
   "metadata": {},
   "source": [
    "**Задача 1**. Дано слово из латинских букв. Напишите скрипт, который выводит на экран букву из середины слова (если число букв нечетное). Если букв четное число, то на экран выводятся две буквы из середины.  \n",
    "\n",
    "Пример: для 'test' должно выводится 'es', для 'testing' - 't'"
   ]
  },
  {
   "cell_type": "code",
   "execution_count": 348,
   "metadata": {},
   "outputs": [
    {
     "name": "stdout",
     "output_type": "stream",
     "text": [
      "Введите слово test\n",
      "В вашем слово четное число букв. Вот две буквы из середины: es\n"
     ]
    }
   ],
   "source": [
    "word = input('Введите слово ')\n",
    "if len(word) == 0:\n",
    "    print ('Ошибка')\n",
    "elif len(word) % 2 != 0:\n",
    "    print('В вашем слово нечетное число букв. Вот буква из середины:', word[len(word)//2])\n",
    "elif len(word) % 2 == 0:\n",
    "    print('В вашем слово четное число букв. Вот две буквы из середины:', word[len(word)//2 - 1] + word[len(word)//2])"
   ]
  },
  {
   "cell_type": "markdown",
   "metadata": {},
   "source": [
    "**Задача 2**. Мы делаем MVP dating-сервиса, и у нас есть список парней и девушек (их число может варьироваться):"
   ]
  },
  {
   "cell_type": "code",
   "execution_count": 25,
   "metadata": {},
   "outputs": [],
   "source": [
    "boys = ['Peter', 'Alex', 'John', 'Arthur', 'Richard']\n",
    "girls = ['Kate', 'Liza', 'Kira', 'Emma', 'Trisha']\n",
    "\n",
    "#Решение в ячейке ниже"
   ]
  },
  {
   "cell_type": "markdown",
   "metadata": {},
   "source": [
    "Выдвигаем гипотезу: лучшие рекомендации мы получим, если просто отсортируем имена по алфавиту и познакомим людей с одинаковыми индексами после сортировки! \"Познакомить\" пары нам поможет функция zip, а в цикле распакуем zip-объект и выведем информацию в виде:\n",
    "\n",
    "Идеальные пары:  \n",
    "Alex и Emma  \n",
    "Arthur и Kate  \n",
    "John и Kira  \n",
    "Peter и Liza  \n",
    "Richard и Trisha  "
   ]
  },
  {
   "cell_type": "markdown",
   "metadata": {},
   "source": [
    "**Внимание! Если количество людей в списках будет не совпадать, то мы никого знакомить не будет и выведем пользователю предупреждение, что кто-то может остаться без пары!**"
   ]
  },
  {
   "cell_type": "code",
   "execution_count": 2,
   "metadata": {},
   "outputs": [
    {
     "name": "stdout",
     "output_type": "stream",
     "text": [
      "Идеальные пары:\n",
      "Alex и Anna\n",
      "Arthur и Emma\n",
      "John и Kate\n",
      "Peter и Kira\n",
      "Richard и Liza\n",
      "Stan и Sophie\n",
      "Zack и Trisha\n"
     ]
    }
   ],
   "source": [
    "boys = ['Peter', 'Alex', 'John', 'Arthur', 'Richard', 'Stan', 'Zack']\n",
    "girls = ['Kate', 'Liza', 'Kira', 'Emma', 'Trisha', 'Sophie', 'Anna']\n",
    "\n",
    "if len(boys) != len(girls):\n",
    "    print('Кто-то может остаться без пары')\n",
    "else:\n",
    "    s_boys = sorted(boys)\n",
    "    s_girls = sorted(girls)\n",
    "    perfect_match = list(zip(s_boys, s_girls))\n",
    "    print('Идеальные пары:')\n",
    "    #first_couple, *other_couples, last_couple = perfect_match\n",
    "    for boy, girl in perfect_match:\n",
    "        print(f'{boy} и {girl}')"
   ]
  },
  {
   "cell_type": "markdown",
   "metadata": {},
   "source": [
    "**Комментарий** \n",
    "\n",
    "*Возможно, в ячейке выше пара лишних строчек есть. Сначала код был без **else**, и если я изменял количество парней или девушек, то он выводил сообщение об ошибке, но все равно продолжал исполнять код — и создавал эти пять пар, хотя их не должно было быть. Индентация помогла это исправить.* \n",
    "\n",
    "*И я кажется не понял суть распаковки. В одиннадцотой строчке сделал это — но в итоге закомментировал, и ничего не изменилось. То есть вроде работает и с ней, и без нее. Поясните пожалуйста.*"
   ]
  },
  {
   "cell_type": "markdown",
   "metadata": {},
   "source": [
    "**Задача 3**. У нас есть список, содержащий информацию о среднедневной температуре в Фаренгейтах за недельный период по странам.\n",
    "Необходимо написать код, который рассчитает среднюю температуру за неделю в Цельсиях для каждой страны."
   ]
  },
  {
   "cell_type": "code",
   "execution_count": 1,
   "metadata": {},
   "outputs": [
    {
     "name": "stdout",
     "output_type": "stream",
     "text": [
      "Average temperature in Thailand is 23.0° Celcius\n",
      "Average temperature in Germany is 13.0° Celcius\n",
      "Average temperature in Russia is 3.0° Celcius\n",
      "Average temperature in Poland is 11.0° Celcius\n"
     ]
    }
   ],
   "source": [
    "countries_temperature = [\n",
    " ['Thailand', [75.2, 77, 78.8, 73.4, 68, 75.2, 77]],\n",
    " ['Germany', [57.2, 55.4, 59, 59, 53.6, 55.4, 57.2]],\n",
    " ['Russia', [35.6, 37.4, 39.2, 41, 42.8, 39.2, 35.6]],\n",
    " ['Poland', [50, 50, 53.6, 57.2, 55.4, 55.4, 51.8]],\n",
    "]\n",
    "\n",
    "for country in countries_temperature:\n",
    "    avg_fahrenheit = sum(country[1]) // len(country[1])\n",
    "    avg_celcius = (avg_fahrenheit - 32) // 1.8\n",
    "    print(f'Average temperature in {country[0]} is {avg_celcius}° Celcius')\n",
    "\n",
    "#Эх вот тут бы пробел перед знаком градуса убрать. Ну и можно было не вводить переменную avg_fahrenheit наверное."
   ]
  },
  {
   "cell_type": "markdown",
   "metadata": {},
   "source": [
    "**Задача 4.** Дан поток логов по количеству просмотренных страниц для каждого пользователя. Список отсортирован по ID пользователя. Вам необходимо написать алгоритм, который считает среднее значение просмотров на пользователя. \n",
    "Т. е. надо посчитать отношение суммы всех просмотров к количеству уникальных пользователей."
   ]
  },
  {
   "cell_type": "code",
   "execution_count": 272,
   "metadata": {},
   "outputs": [
    {
     "name": "stdout",
     "output_type": "stream",
     "text": [
      "Среднее количество просмотров на зрителя user1 равно 3\n",
      "Среднее количество просмотров на зрителя user1 равно 14\n",
      "Среднее количество просмотров на зрителя user1 равно 10\n",
      "Среднее количество просмотров на зрителя user1 равно 15\n",
      "Среднее количество просмотров среди всех зрителей равно 23\n"
     ]
    }
   ],
   "source": [
    "stream = [\n",
    "    '2018-01-01,user1,3',\n",
    "    '2018-01-07,user1,4',\n",
    "    '2018-03-29,user1,1',\n",
    "    '2018-04-04,user1,13',\n",
    "    '2018-01-05,user2,7',\n",
    "    '2018-06-14,user3,4',\n",
    "    '2018-07-02,user3,10',\n",
    "    '2018-03-21,user4,19',\n",
    "    '2018-03-22,user4,4',\n",
    "    '2018-04-22,user4,8',\n",
    "    '2018-05-03,user4,9',\n",
    "    '2018-05-11,user4,11',\n",
    "]\n",
    "\n",
    "sum_views = 0\n",
    "users = []\n",
    "\n",
    "for line in stream:\n",
    "    new_list = (line.split(','))\n",
    "    sum_views += int(new_list[2])\n",
    "    if new_list[1] not in users:\n",
    "        users.append(new_list[1])\n",
    "        #print('Среднее количество просмотров на зрителя', users[0], 'равно', sum_views // len(users))\n",
    "print('Среднее количество просмотров среди всех зрителей равно', sum_views // len(users))"
   ]
  },
  {
   "cell_type": "markdown",
   "metadata": {},
   "source": [
    "**Комментарий** \n",
    "\n",
    "*Ну, в общем, основное условие выполнено. Но осадочек остался. Захотелось выпендриться и посчитать среднее количество просмотров на каждого юзера (закомментированная строка). Что-то пошло не так, но я честно говоря немного устал к этому моменту, чтобы понять, что именно. И еще хотелось красиво сделать с номером юзера, но опять же не вышло.*\n",
    "\n",
    "*Насчет \"красиво\" можно конечно поспорить — с f-строками это пожалуй выглядело бы более пристойно, но с ними я тоже пока не подружился.*"
   ]
  },
  {
   "cell_type": "markdown",
   "metadata": {},
   "source": [
    "**Задача 5**. Дана статистика рекламных кампаний по дням. Напишите алгоритм, который по паре дата-кампания ищет значение численного столбца. \n",
    "Т. е. для даты '2018-01-01' и 'google' нужно получить число 25. \n",
    "Считайте, что все комбинации дата-кампания уникальны."
   ]
  },
  {
   "cell_type": "code",
   "execution_count": 13,
   "metadata": {},
   "outputs": [
    {
     "ename": "SyntaxError",
     "evalue": "invalid syntax (<ipython-input-13-b952094f75e4>, line 17)",
     "output_type": "error",
     "traceback": [
      "\u001b[1;36m  File \u001b[1;32m\"<ipython-input-13-b952094f75e4>\"\u001b[1;36m, line \u001b[1;32m17\u001b[0m\n\u001b[1;33m    elif:\u001b[0m\n\u001b[1;37m       ^\u001b[0m\n\u001b[1;31mSyntaxError\u001b[0m\u001b[1;31m:\u001b[0m invalid syntax\n"
     ]
    }
   ],
   "source": [
    "stats = [\n",
    "    ['2018-01-01', 'google', 25],\n",
    "    ['2018-01-01', 'yandex', 65],\n",
    "    ['2018-01-01', 'market', 89],\n",
    "    ['2018-01-02', 'google', 574],\n",
    "    ['2018-01-02', 'yandex', 249],\n",
    "    ['2018-01-02', 'market', 994],\n",
    "    ['2018-01-03', 'google', 1843],\n",
    "    ['2018-01-03', 'yandex', 1327],\n",
    "    ['2018-01-03', 'market', 1764],\n",
    "]\n",
    "date = input('Введите дату: ')\n",
    "company = input('Введите название компании: ')\n",
    "for element in stats:\n",
    "    if date == element[0] and company == element[1]:\n",
    "        print(element[2])\n",
    "else:\n",
    "    print('Ошибка')"
   ]
  },
  {
   "cell_type": "markdown",
   "metadata": {},
   "source": [
    "**Примечание**\n",
    "\n",
    "*Ну тут прямо совсем беда. Потерпел поражение в борьбе со списками списков. Несмотря на то что следующее задание вроде сделал (ну то есть как сделал)*\n",
    "\n",
    "UPD: Вроде все исправил и все работает, НО. Почему он как бы оба условия выполняет? То есть и выводит правильный результат, и при этом сообщение об ошибке?"
   ]
  },
  {
   "cell_type": "markdown",
   "metadata": {},
   "source": [
    "**Задача 6**. Дан список вида:"
   ]
  },
  {
   "cell_type": "code",
   "execution_count": 336,
   "metadata": {},
   "outputs": [],
   "source": [
    "data = [\n",
    "    [13, 25, 23, 34],\n",
    "    [45, 32, 44, 47],\n",
    "    [12, 33, 23, 95],\n",
    "    [13, 53, 34, 35]\n",
    "]  \n",
    "\n",
    "#data = [[1, 4, 3], \n",
    "        #[0, 5, 6], \n",
    "        #[7, 2, 8]]"
   ]
  },
  {
   "cell_type": "markdown",
   "metadata": {},
   "source": [
    "Напишите код, который будет вычислять сумму элементов на диагонали. Т. е. 13+32+23+35.  \n",
    "Список может быть любой длины, но всегда является \"квадратным\" (количество элементов во вложенных списках равно их количеству)."
   ]
  },
  {
   "cell_type": "code",
   "execution_count": 337,
   "metadata": {},
   "outputs": [
    {
     "name": "stdout",
     "output_type": "stream",
     "text": [
      "14\n"
     ]
    }
   ],
   "source": [
    "height = len(data)\n",
    "width = len(data[0])\n",
    "\n",
    "diagonal_sum = sum(data[i][i] for i in range(height))\n",
    "print(diagonal_sum)   "
   ]
  },
  {
   "cell_type": "markdown",
   "metadata": {},
   "source": [
    "**Примечание**\n",
    "\n",
    "*В общем, я конечно же погуглил решения — через библиотеку numpy в частности, где есть инструменты для работы с матрицами. Но понял, что это не совсем спортивно (хотя все все равно гуглят и будут гуглить решения, в т.ч. на работе). В общем, там если без использования numpy, то на stackoverflow есть совершенно жуткие решения задач разнообразных, похожих на эту. И они выводят/перемножают/суммируют элементы ВСЕХ диагоналей матрицы (а это ведь именно матрица перед нами). Короче, я окончательно опух в этот момент. И наверняка упустил какое-то простое и изящное решение. Мое-то вообще всратое*\n",
    "\n",
    "*Надеюсь, что нужно было посчитать только сумму главной диагонали, а не всех*"
   ]
  },
  {
   "cell_type": "code",
   "execution_count": null,
   "metadata": {},
   "outputs": [],
   "source": []
  }
 ],
 "metadata": {
  "kernelspec": {
   "display_name": "Python 3",
   "language": "python",
   "name": "python3"
  },
  "language_info": {
   "codemirror_mode": {
    "name": "ipython",
    "version": 3
   },
   "file_extension": ".py",
   "mimetype": "text/x-python",
   "name": "python",
   "nbconvert_exporter": "python",
   "pygments_lexer": "ipython3",
   "version": "3.7.4"
  }
 },
 "nbformat": 4,
 "nbformat_minor": 2
}
