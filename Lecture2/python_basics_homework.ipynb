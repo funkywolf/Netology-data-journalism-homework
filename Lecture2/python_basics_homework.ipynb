{
 "cells": [
  {
   "cell_type": "markdown",
   "metadata": {},
   "source": [
    "**Задание 1.** Даны 2 строки: long_phrase и short_phrase. Напишите код, который проверяет действительно ли длинная фраза long_phrase длиннее короткой short_phrase. И выводит True или False в зависимости от результата сравнения.\n"
   ]
  },
  {
   "cell_type": "code",
   "execution_count": 15,
   "metadata": {},
   "outputs": [],
   "source": [
    "long_phrase = \"Насколько проще было бы писать программы, если бы не заказчики\"\n",
    "short_phrase = \"640Кб должно хватить для любых задач. Билл Гейтс (по легенде)\""
   ]
  },
  {
   "cell_type": "code",
   "execution_count": 19,
   "metadata": {},
   "outputs": [
    {
     "name": "stdout",
     "output_type": "stream",
     "text": [
      "False\n"
     ]
    }
   ],
   "source": [
    "long_phrase = \"раз\"\n",
    "short_phrase = \"раз два три\"\n",
    "if long_phrase > short_phrase:\n",
    "    print('True')\n",
    "else: \n",
    "    print('False')"
   ]
  },
  {
   "cell_type": "markdown",
   "metadata": {},
   "source": [
    "**Задание 2.** Дано значение объема файла в байтах (в мегабайте 2^20 байт). Напишите перевод этого значения в мегабайты в формате: \"Объем файла равен 213.68Mb\"."
   ]
  },
  {
   "cell_type": "code",
   "execution_count": 57,
   "metadata": {},
   "outputs": [
    {
     "name": "stdout",
     "output_type": "stream",
     "text": [
      "Объем файла равен 976.77 Mb\n"
     ]
    }
   ],
   "source": [
    "file_size_bytes = 1024221342\n",
    "file_size_megabytes = file_size_bytes / 2 ** 20 \n",
    "print('Объем файла равен', \"%.2f\" % file_size_megabytes, 'Mb') #кусок кода, убирающий хвост после запятой, честно нагуглил"
   ]
  },
  {
   "cell_type": "markdown",
   "metadata": {},
   "source": [
    "**Задание 3.** Разработать приложение для определения знака зодиака по дате рождения. Пример:\n",
    "\n",
    "Введите месяц: март\n",
    "\n",
    "Введите число: 6\n",
    "\n",
    "Вывод: Рыбы"
   ]
  },
  {
   "cell_type": "code",
   "execution_count": 62,
   "metadata": {},
   "outputs": [
    {
     "name": "stdout",
     "output_type": "stream",
     "text": [
      "Введите день рождения:21\n",
      "Введите месяц рождения в именительном падеже:июнь\n",
      "По знаку Зодиака вы Близнецы\n"
     ]
    }
   ],
   "source": [
    "day = int(input('Введите день рождения:'))\n",
    "month = input('Введите месяц рождения в именительном падеже:')\n",
    "\n",
    "if month == 'март':\n",
    "    zodiac_sign = 'Рыбы' if (day < 21) else 'Овен'\n",
    "elif month == 'апрель':\n",
    "    zodiac_sign = 'Овен' if (day < 21) else 'Телец'\n",
    "elif month == 'май':\n",
    "    zodiac_sign = 'Телец' if (day < 22) else 'Близнецы'\n",
    "elif month == 'июнь':\n",
    "    zodiac_sign = 'Близнецы' if (day < 22) else 'Рак'\n",
    "elif month == 'июль':\n",
    "    zodiac_sign = 'Рак' if (day < 23) else 'Лев'\n",
    "elif month == 'август':\n",
    "    zodiac_sign = 'Лев' if (day < 24) else 'Дева'\n",
    "elif month == 'сентябрь':\n",
    "    zodiac_sign = 'Дева' if (day < 24) else 'Весы'\n",
    "elif month == 'октябрь':\n",
    "    zodiac_sign = 'Весы' if (day < 24) else 'Скорпион'\n",
    "elif month == 'ноябрь':\n",
    "    zodiac_sign = 'Скорпион' if (day < 23) else 'Стрелец'\n",
    "elif month == 'декабрь':\n",
    "    zodiac_sign = 'Стрелец' if (day < 22) else 'Козерог'\n",
    "elif month == 'январь':\n",
    "    zodiac_sign = 'Козерог' if (day < 21) else 'Водолей'\n",
    "elif month == 'февраль':\n",
    "    zodiac_sign = 'Водолей' if (day < 19) else 'Рыбы'\n",
    "print('По знаку Зодиака вы', zodiac_sign)"
   ]
  },
  {
   "cell_type": "markdown",
   "metadata": {},
   "source": [
    "**Задание 4.** Нужно разработать приложение для финансового планирования. Приложение учитывает сколько уходит на ипотеку, \"на жизнь\" и сколько нужно отложить на пенсию. Пользователь вводит:\n",
    "\n",
    "заработанную плату в месяц.\n",
    "сколько процентов от ЗП уходит на ипотеку.\n",
    "сколько процентов от ЗП уходит \"на жизнь\".\n",
    "сколько раз приходит премия в год.\n",
    "Остальная часть заработанной платы откладывается на пенсию.\n",
    "\n",
    "Также пользователю приходит премия в размере зарплаты, от которой половина уходит на отпуск, а вторая половина откладывается.\n",
    "\n",
    "Программа должна учитывать сколько премий было в год.\n",
    "\n",
    "Нужно вывести сколько денег тратит пользователь на ипотеку и сколько он накопит за год.\n",
    "\n",
    "Пример:\n",
    "\n",
    "Введите заработанную плату в месяц: 100000\n",
    "\n",
    "Введите сколько процентов уходит на ипотеку: 30\n",
    "\n",
    "Введите сколько процентов уходит на жизнь: 50\n",
    "\n",
    "Введите количество премий за год: 2\n",
    "\n",
    "Вывод: На ипотеку было потрачено: 360000 рублей Было накоплено: 340000 рублей"
   ]
  },
  {
   "cell_type": "code",
   "execution_count": 63,
   "metadata": {},
   "outputs": [
    {
     "name": "stdout",
     "output_type": "stream",
     "text": [
      "Введите заработанную плату в месяц:80000\n",
      "Введите, сколько процентов уходит на ипотеку:25\n",
      "Введите, сколько процентов уходит на жизнь:60\n",
      "Введите количество премий за год:0\n",
      "Вывод: На ипотеку было потрачено: 240000.0 рублей.Было накоплено: 144000.0 рублей.\n"
     ]
    }
   ],
   "source": [
    "salary = int(input('Введите заработанную плату в месяц:'))\n",
    "mortgage = int(input('Введите, сколько процентов уходит на ипотеку:'))\n",
    "life_spendings = int(input('Введите, сколько процентов уходит на жизнь:'))\n",
    "bonus = int(input('Введите количество премий за год:'))\n",
    "savings_bonus = (salary / 2) * bonus\n",
    "savings_monthly = salary - (salary / 100) * (mortgage + life_spendings)\n",
    "savings_monthly_percent = 100 - mortgage - life_spendings\n",
    "mortgage_annual = (salary / 100) * (100 - savings_monthly_percent - life_spendings) * 12\n",
    "\n",
    "print('Вывод: На ипотеку было потрачено:', mortgage_annual, 'рублей.' 'Было накоплено:', savings_bonus + (savings_monthly * 12), 'рублей.')"
   ]
  },
  {
   "cell_type": "markdown",
   "metadata": {},
   "source": [
    "**Примечание.** \n",
    "\n",
    "Не понял, есть ли способ скачать ноутбук с вашего гитхаба, Олег. В итоге как дурак скопировал весь текст (включая код) и создал свой ноутбук. Кажется, это не тот способ, которым надо было сделать задание. Буду признателен, если вы в комментарии напишете, что я сделал не так. \n",
    "\n",
    "Короче с гитом больше проблем чем с питоном у меня :)\n",
    "\n",
    "В слак скоро присоединюсь (да, меня там до сих пор нет)"
   ]
  },
  {
   "cell_type": "code",
   "execution_count": null,
   "metadata": {},
   "outputs": [],
   "source": []
  }
 ],
 "metadata": {
  "kernelspec": {
   "display_name": "Python 3",
   "language": "python",
   "name": "python3"
  },
  "language_info": {
   "codemirror_mode": {
    "name": "ipython",
    "version": 3
   },
   "file_extension": ".py",
   "mimetype": "text/x-python",
   "name": "python",
   "nbconvert_exporter": "python",
   "pygments_lexer": "ipython3",
   "version": "3.7.4"
  }
 },
 "nbformat": 4,
 "nbformat_minor": 2
}
